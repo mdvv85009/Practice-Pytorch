{
 "cells": [
  {
   "cell_type": "code",
   "execution_count": 2,
   "metadata": {},
   "outputs": [],
   "source": [
    "from __future__ import print_function\n",
    "import torch"
   ]
  },
  {
   "cell_type": "code",
   "execution_count": 4,
   "metadata": {},
   "outputs": [
    {
     "name": "stdout",
     "output_type": "stream",
     "text": [
      "tensor([[0., 0., 0.],\n",
      "        [0., 0., 0.],\n",
      "        [0., 0., 0.],\n",
      "        [0., 0., 0.],\n",
      "        [0., 0., 0.]])\n"
     ]
    }
   ],
   "source": [
    "x = torch.empty(5, 3) # Constract a 5 * 3 matrix, no initialize\n",
    "print(x)"
   ]
  },
  {
   "cell_type": "code",
   "execution_count": 5,
   "metadata": {},
   "outputs": [
    {
     "name": "stdout",
     "output_type": "stream",
     "text": [
      "tensor([[0.6410, 0.9163, 0.7443],\n",
      "        [0.2384, 0.2908, 0.7397],\n",
      "        [0.1122, 0.6587, 0.6896],\n",
      "        [0.0126, 0.0866, 0.4674],\n",
      "        [0.5055, 0.8837, 0.3986]])\n"
     ]
    }
   ],
   "source": [
    "x = torch.rand(5, 3) # Constract a 5 * 3 randon initialize matrix\n",
    "print(x)"
   ]
  },
  {
   "cell_type": "code",
   "execution_count": 6,
   "metadata": {},
   "outputs": [
    {
     "name": "stdout",
     "output_type": "stream",
     "text": [
      "tensor([[0, 0, 0],\n",
      "        [0, 0, 0],\n",
      "        [0, 0, 0],\n",
      "        [0, 0, 0],\n",
      "        [0, 0, 0]])\n"
     ]
    }
   ],
   "source": [
    "# Constract a 5 * 3 zero matrix, type is 'long'\n",
    "x = torch.zeros(5, 3, dtype = torch.long)\n",
    "print(x)"
   ]
  },
  {
   "cell_type": "code",
   "execution_count": 7,
   "metadata": {},
   "outputs": [
    {
     "name": "stdout",
     "output_type": "stream",
     "text": [
      "tensor([5.5000, 3.0000])\n"
     ]
    }
   ],
   "source": [
    "# Constract a tensor, with Initialize\n",
    "x = torch.tensor([5.5, 3])\n",
    "print(x)"
   ]
  },
  {
   "cell_type": "code",
   "execution_count": 9,
   "metadata": {},
   "outputs": [
    {
     "name": "stdout",
     "output_type": "stream",
     "text": [
      "tensor([[1., 1., 1.],\n",
      "        [1., 1., 1.],\n",
      "        [1., 1., 1.],\n",
      "        [1., 1., 1.],\n",
      "        [1., 1., 1.]], dtype=torch.float64)\n",
      "tensor([[-0.0321, -0.4978, -1.4302],\n",
      "        [ 1.5756, -0.2376,  0.4610],\n",
      "        [ 1.0698, -1.1333, -0.1500],\n",
      "        [ 1.6854, -0.7553,  0.6403],\n",
      "        [ 0.2546,  0.5491, -0.4972]])\n"
     ]
    }
   ],
   "source": [
    "# new_* methods take in sizes, Initial all tensor value is 1\n",
    "x = x.new_ones(5, 3, dtype = torch.double)\n",
    "print(x)\n",
    "\n",
    "# override dtype!\n",
    "x = torch.randn_like(x, dtype = torch.float)\n",
    "print(x)"
   ]
  },
  {
   "cell_type": "code",
   "execution_count": 10,
   "metadata": {},
   "outputs": [
    {
     "name": "stdout",
     "output_type": "stream",
     "text": [
      "torch.Size([5, 3])\n"
     ]
    }
   ],
   "source": [
    "# Get Dimension info\n",
    "print(x.size())"
   ]
  },
  {
   "cell_type": "code",
   "execution_count": 13,
   "metadata": {},
   "outputs": [
    {
     "name": "stdout",
     "output_type": "stream",
     "text": [
      "tensor([[ 0.0796, -0.2301, -0.5182],\n",
      "        [ 2.5233, -0.1323,  0.4732],\n",
      "        [ 2.0520, -0.9175,  0.2134],\n",
      "        [ 1.9975,  0.2063,  1.1297],\n",
      "        [ 1.2016,  0.9824,  0.4417]])\n",
      "tensor([[ 0.0796, -0.2301, -0.5182],\n",
      "        [ 2.5233, -0.1323,  0.4732],\n",
      "        [ 2.0520, -0.9175,  0.2134],\n",
      "        [ 1.9975,  0.2063,  1.1297],\n",
      "        [ 1.2016,  0.9824,  0.4417]])\n",
      "tensor([[ 0.0796, -0.2301, -0.5182],\n",
      "        [ 2.5233, -0.1323,  0.4732],\n",
      "        [ 2.0520, -0.9175,  0.2134],\n",
      "        [ 1.9975,  0.2063,  1.1297],\n",
      "        [ 1.2016,  0.9824,  0.4417]])\n"
     ]
    }
   ],
   "source": [
    "# add manipulation\n",
    "y = torch.rand(5, 3)\n",
    "print(x + y) # method 1\n",
    "print(torch.add(x, y)) # method 2\n",
    "\n",
    "result = torch.empty(5, 3)\n",
    "torch.add(x, y, out = result)\n",
    "print(result) # method 3, let result = x + y"
   ]
  },
  {
   "cell_type": "markdown",
   "metadata": {},
   "source": [
    "### 1. Any tensor manipulation will change tensor\n",
    "#### ex. x.copy(y), x.t_() , will change x\n",
    "\n",
    "### 2. Can use numpy like index manipulation on tensor"
   ]
  },
  {
   "cell_type": "code",
   "execution_count": 15,
   "metadata": {},
   "outputs": [
    {
     "name": "stdout",
     "output_type": "stream",
     "text": [
      "torch.Size([4, 4]) torch.Size([16]) torch.Size([2, 8])\n"
     ]
    }
   ],
   "source": [
    "# Change tensor size or shape, can using \"torch.view\"\n",
    "x = torch.randn(4, 4)\n",
    "y = x.view(16)\n",
    "z = x.view(-1, 8) # the size -1 is inferred from other dimensions\n",
    "print(x.size(), y.size(), z.size())"
   ]
  },
  {
   "cell_type": "code",
   "execution_count": 17,
   "metadata": {},
   "outputs": [
    {
     "name": "stdout",
     "output_type": "stream",
     "text": [
      "tensor([0.7360])\n",
      "0.7359582185745239\n"
     ]
    }
   ],
   "source": [
    "# Can get value on tensor\n",
    "x = torch.randn(1)\n",
    "print(x)\n",
    "print(x.item())"
   ]
  }
 ],
 "metadata": {
  "kernelspec": {
   "display_name": "Python 3",
   "language": "python",
   "name": "python3"
  },
  "language_info": {
   "codemirror_mode": {
    "name": "ipython",
    "version": 3
   },
   "file_extension": ".py",
   "mimetype": "text/x-python",
   "name": "python",
   "nbconvert_exporter": "python",
   "pygments_lexer": "ipython3",
   "version": "3.7.6"
  }
 },
 "nbformat": 4,
 "nbformat_minor": 4
}
